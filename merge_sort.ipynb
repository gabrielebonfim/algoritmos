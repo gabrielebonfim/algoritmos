{
  "nbformat": 4,
  "nbformat_minor": 0,
  "metadata": {
    "colab": {
      "name": "Merge Sort.ipynb",
      "provenance": [],
      "collapsed_sections": []
    },
    "kernelspec": {
      "name": "python3",
      "display_name": "Python 3"
    },
    "language_info": {
      "name": "python"
    }
  },
  "cells": [
    {
      "cell_type": "markdown",
      "source": [
        "## Como funciona o Merge Sort?\n",
        "#### Teoria - Pseudocodigo\n",
        "Usaremos como exemplo a lista abaixo:\n",
        "```\n",
        "lista = [3, 5, 1, 2, 77, 8, 4, 9]\n",
        "```\n",
        "\n",
        "A ideia do Merge Sort é subdividir todos os itens nas menores listas possíveis:\n",
        "```\n",
        "[3, 5, 1, 2, 77, 8, 4, 9] -> rodada 1\n",
        "\n",
        "[3, 5, 1, 2] [77, 8, 4, 9] -> rodada 2\n",
        "\n",
        "[3, 5] [1, 2] [77, 8] [4, 9] -> rodada 3\n",
        "\n",
        "[3] [5] [1] [2] [77] [8] [4] [9] -> rodada 4\n",
        "\n",
        "```\n",
        "\n",
        "Agora que a lista foi quebrada em pequenas listas, a ideia é refazer a lista fazendo comparação de duas em duas listas. As pequenas listas serão mergeadas, seguindo a ordem do menor para o maior.\n",
        "\n",
        "```\n",
        "[3] [5] [1] [2] [77] [8] [4] [9]\n",
        "\n",
        "Rodada 1\n",
        "Comparação entre [3] e [5]\n",
        "- 3 é maior que 5? Não.\n",
        "resultado: [3, 5]\n",
        "\n",
        "Comparação entre [1] e [2]\n",
        "- 1 é maior que 2? Não.\n",
        "resultado: [1, 2]\n",
        "\n",
        "```\n",
        "Nas listas com tamanho 2 em diante, o trabalho é feito como se tivesse comparando 2 pilhas de cartas, mais ou menos essa dinâmica:\n",
        "\n",
        "```\n",
        "L1 = [3, 5]\n",
        "L2 = [1, 2]\n",
        "\n",
        "\n",
        "REPRESENTAÇÃO\n",
        "L1 L2\n",
        "3  1\n",
        "5  2\n",
        "\n",
        "Rodada 1:\n",
        "Qual o menor número entre 3(posição 0) e 1(posição 0)?\n",
        " R: Maior\n",
        "\n",
        "-------------------------------------------------------------\n",
        "(A posição 0 da L2 não é mais considerável para comparação, \n",
        "então a comparação na segunda rodada será entre 3(posição 0) e 2(posição 1).\n",
        "-------------------------------------------------------------\n",
        "\n",
        "NOVA REPRESENTAÇÃO\n",
        "L1 L2\n",
        "3  \n",
        "5  2\n",
        "\n",
        "\n",
        "```\n",
        "\n",
        "```\n",
        "[3, 5] [1, 2] [77, 8] [4, 9]\n",
        "\n",
        "Rodada 2\n",
        "Comparação entre [3,5] e [1,2]\n",
        "\n",
        "- 3 é maior que 1? Sim.\n",
        "[1]\n",
        "\n",
        "- 3 é maior que 2? Sim.\n",
        "[1, 2]\n",
        "\n",
        "- 3 é maior que 5? Não.\n",
        "[1, 2, 3]\n",
        "\n",
        "- 5 sobra, entra no final da lista.\n",
        "[1, 2, 3, 5]\n",
        "\n",
        "------\n",
        "Comparação entre [77, 8] e [4, 9]\n",
        "\n",
        "- 77 é maior que 4? Sim.\n",
        "[4]\n",
        "- 77 é maior que 9? Sim.\n",
        "[4, 9]\n",
        "- 77 é maior que 8? Sim.\n",
        "[4, 9, 8]\n",
        "- 77 sobra, entra no final da lista.\n",
        "[4, 9, 8, 77]\n",
        "\n",
        "\n",
        "```\n",
        "A comparação segue até formar a lista novamente.\n",
        "\n",
        "```\n",
        "[1, 2, 3, 5] [4, 9, 8, 77]\n",
        "\n",
        "Rodada 3\n",
        "Comparação entre [1, 2, 3, 5] [4, 9, 8, 77]\n",
        "- 1 é maior que 4? Não.\n",
        "[1]\n",
        "- 2 é maior que 4? Não.\n",
        "[1, 2]\n",
        "- 3 é maior que 4? Não.\n",
        "[1, 2, 3]\n",
        "- 5 é maior que 4? Sim.\n",
        "[1, 2, 3, 4]\n",
        "- 5 é maior que 9? Não.\n",
        "[1, 2, 3, 4, 5]\n",
        "- 9 é maior que 8? Sim.\n",
        "[1, 2, 3, 4, 5, 8]\n",
        "- 9 é maior que 77? Não.\n",
        "[1, 2, 3, 4, 5, 8, 9]\n",
        "- 77 sobra, entra no final da lista.\n",
        "[1, 2, 3, 4, 5, 8, 9, 77]\n",
        "\n",
        "```\n",
        "### Representação visual\n",
        "![Merge Sort](https://static.javatpoint.com/tutorial/daa/images/daa-merge-sort2.png)\n",
        "\n",
        "### Complexidade do algoritmo\n",
        "A complexidade do merge sort no pior caso é O(*n log n*)."
      ],
      "metadata": {
        "id": "WFRgqhJf9cfL"
      }
    },
    {
      "cell_type": "markdown",
      "source": [
        "*******\n",
        "### Prática - Python"
      ],
      "metadata": {
        "id": "B5mNniaSNZ_2"
      }
    },
    {
      "cell_type": "code",
      "source": [
        "def mergesort(lista, inicio=0, fim=None):\n",
        "  if fim is None:\n",
        "    fim = len(lista) # fim = 8\n",
        "  if fim - inicio > 1:\n",
        "    meio = (fim + inicio) // 2\n",
        "    mergesort(lista, inicio, meio) \n",
        "    mergesort(lista, meio, fim) \n",
        "    merge(lista, inicio, meio, fim)\n",
        "\n",
        "def merge(lista, inicio, meio, fim):\n",
        "  left = lista[inicio:meio]\n",
        "  right = lista[meio:fim]\n",
        "  top_left, top_right = 0, 0\n",
        "  for k in range(inicio, fim):\n",
        "    if top_left >= len(left):\n",
        "      lista[k] = right[top_right]\n",
        "      top_right += 1\n",
        "    elif top_right >= len(right):\n",
        "      lista[k] = left[top_left]\n",
        "      top_left += 1\n",
        "    elif left[top_left] < right[top_right]:\n",
        "        lista[k] = left[top_left]\n",
        "        top_left +=1\n",
        "    else:\n",
        "      lista[k] = right[top_right]\n",
        "      top_right += 1"
      ],
      "metadata": {
        "id": "RzToXf9BDwbf"
      },
      "execution_count": 2,
      "outputs": []
    },
    {
      "cell_type": "code",
      "source": [
        "import random \n",
        "\n",
        "lista = [random.randint(1, 50) for i in range (8)]\n",
        "\n",
        "print(f'Lista não ordenada: {lista}')\n",
        "\n",
        "mergesort(lista)\n",
        "\n",
        "print(f'Lista ordenada: {lista}')"
      ],
      "metadata": {
        "colab": {
          "base_uri": "https://localhost:8080/"
        },
        "id": "xFTEWH0bMg59",
        "outputId": "f094914f-1f59-4443-95e8-3b66d791e034"
      },
      "execution_count": 4,
      "outputs": [
        {
          "output_type": "stream",
          "name": "stdout",
          "text": [
            "Lista não ordenada: [16, 43, 6, 8, 26, 14, 14, 49]\n",
            "Lista ordenada: [6, 8, 14, 14, 16, 26, 43, 49]\n"
          ]
        }
      ]
    },
    {
      "cell_type": "markdown",
      "source": [
        "### Prática - Utilizando Programação Orientada a Objeto"
      ],
      "metadata": {
        "id": "ZIDjJeOURERn"
      }
    },
    {
      "cell_type": "code",
      "source": [
        "class Lista:\n",
        "  def __init__(self, lista):\n",
        "    self.lista = lista\n",
        "\n",
        "  def merge_sort(self, inicio=0, fim=None):\n",
        "    lista = self.lista\n",
        "    if fim is None:\n",
        "      fim = len(lista)\n",
        "    if fim - inicio > 1:\n",
        "      meio = (fim + inicio) // 2\n",
        "      self.merge_sort(inicio, meio)\n",
        "      self.merge_sort(meio, fim)\n",
        "      self.__merge(inicio, meio, fim)\n",
        "\n",
        "\n",
        "  def __merge(self, inicio, meio, fim):\n",
        "    lista = self.lista\n",
        "    left = lista[inicio:meio]\n",
        "    right = lista[meio:fim]\n",
        "    top_left, top_right = 0, 0\n",
        "    for k in range(inicio, fim):\n",
        "      if top_left >= len(left):\n",
        "        lista[k] = right[top_right]\n",
        "        top_right += 1\n",
        "      elif top_right >= len(right):\n",
        "        lista[k] = left[top_left]\n",
        "        top_left += 1\n",
        "      elif left[top_left] < right[top_right]:\n",
        "          lista[k] = left[top_left]\n",
        "          top_left +=1\n",
        "      else:\n",
        "        lista[k] = right[top_right]\n",
        "        top_right += 1\n"
      ],
      "metadata": {
        "id": "_LXm3O3xNEJ9"
      },
      "execution_count": 18,
      "outputs": []
    },
    {
      "cell_type": "code",
      "source": [
        "import random\n",
        "\n",
        "obj = Lista([random.randint(1, 50) for i in range (8)])\n",
        "\n",
        "print(f'Lista não ordenada: {obj.lista}')\n",
        "\n",
        "obj.merge_sort()\n",
        "\n",
        "print(f'Lista ordenada: {obj.lista}')"
      ],
      "metadata": {
        "colab": {
          "base_uri": "https://localhost:8080/"
        },
        "id": "udZ_NKJWOM0G",
        "outputId": "00339a83-5454-42a0-a093-360ab4ee79fc"
      },
      "execution_count": 19,
      "outputs": [
        {
          "output_type": "stream",
          "name": "stdout",
          "text": [
            "Lista não ordenada: [41, 46, 44, 22, 5, 11, 48, 47]\n",
            "Lista ordenada: [5, 11, 22, 41, 44, 46, 47, 48]\n"
          ]
        }
      ]
    }
  ]
}
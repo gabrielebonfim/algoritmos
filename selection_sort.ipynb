{
  "nbformat": 4,
  "nbformat_minor": 0,
  "metadata": {
    "colab": {
      "name": "Selection Sort.ipynb",
      "provenance": [],
      "collapsed_sections": []
    },
    "kernelspec": {
      "name": "python3",
      "display_name": "Python 3"
    },
    "language_info": {
      "name": "python"
    }
  },
  "cells": [
    {
      "cell_type": "markdown",
      "source": [
        "## Como funciona o Selection Sort?\n",
        "#### Teoria - Pseudocodigo\n",
        "\n",
        "Utilizaremos como exemplo a lista abaixo:\n",
        "```\n",
        "lista = [5, 8, 1, 17, 22, 13, 33]\n",
        "```\n",
        "Essa lista possui 7 elementos. Entre esses elementos, precisamos descobrir quem é o elemento de menor valor através de **comparações**.\n",
        "\n",
        "\n",
        "O primeiro número de comparação que será utilizado (valor mínimo) é o número que está na posição 0 da lista = 5\n",
        "```\n",
        "valor mínimo = 5\n",
        "\n",
        "5 é menor? Não\n",
        "8 é menor? Não\n",
        "*** 1 é menor? Sim! ***\n",
        "17 é menor? Não\n",
        "22 é menor? Não\n",
        "13 é menor? Não\n",
        "33 é menor? Não\n",
        "\n",
        "novo valor mínimo = 1\n",
        "\n",
        "```\n",
        "\n",
        "Portanto, esse novo valor mínimo ficará na posição 0 e o 5 ocupará a posição anterior do 1 (posição 2)\n",
        "\n",
        "\n",
        "```\n",
        "lista_anterior = [5, 8, 1, 17, 22, 13, 33]\n",
        "nova_lista = [1, 8, 5, 17, 22, 13, 33]\n",
        "\n",
        "```\n",
        "\n",
        "Para dar continuidade, o segundo número de comparação, será o número na posição 1 = 8. Também ignoraremos a posição 0.\n",
        "\n",
        "\n",
        "```\n",
        "valor mínimo = 8\n",
        "\n",
        "8 é menor? Não\n",
        "*** 5 é menor? Sim ***\n",
        "17 é menor? Não\n",
        "22 é menor? Não\n",
        "13 é menor? Não\n",
        "33 é menor? Não\n",
        "\n",
        "novo valor mínimo = 5\n",
        "\n",
        "```\n",
        "Como anteriormente, o novo valor mínimo ficará na posição 1 e o 8 ocupará a posição anterior do 5 (posição 2)\n",
        "\n",
        "\n",
        "```\n",
        "lista_anterior = [1, 8, 5, 17, 22, 13, 33]\n",
        "nova_lista = [1, 5, 8, 17, 22, 13, 33]\n",
        "\n",
        "```\n",
        "\n",
        "Mais uma vez, repassando: A posição atual é a 2, o valor que o 8 tornou a ocupar novamente e ignoramos as posições 0 e 1\n",
        "\n",
        "```\n",
        "valor mínimo = 8\n",
        "\n",
        "8 é menor? Não\n",
        "17 é menor? Não\n",
        "22 é menor? Não\n",
        "13 é menor? Não\n",
        "33 é menor? Não\n",
        "\n",
        "o valor mínimo permanece 8\n",
        "\n",
        "```\n",
        "\n",
        "Nessa condição, identificamos que o 8 ocupa a posição correta da lista, e passamos para a próxima posição.\n",
        "\n",
        "*****\n",
        "\n",
        "Ao final de toda a iteração, o resultado é uma lista ordenada:\n",
        "\n",
        "```\n",
        "lista = [1, 5, 8, 13, 17, 22, 33]\n",
        "```\n",
        "\n",
        "\n",
        "\n",
        "\n",
        "\n",
        "\n",
        "\n",
        "\n"
      ],
      "metadata": {
        "id": "WFRgqhJf9cfL"
      }
    },
    {
      "cell_type": "markdown",
      "source": [
        "*******\n",
        "### Prática - Python"
      ],
      "metadata": {
        "id": "B5mNniaSNZ_2"
      }
    },
    {
      "cell_type": "code",
      "source": [
        "def selection_sort(lista):\n",
        "  tamanho_da_lista = len(lista)\n",
        "  \n",
        "  for posicao in range(tamanho_da_lista - 1):\n",
        "    index_do_valor_minimo = posicao # Não sabemos qual é, iniciamos na posição\n",
        "\n",
        "    for posicao_iterada in range (posicao, tamanho_da_lista):\n",
        "      if lista[posicao_iterada] < lista[index_do_valor_minimo]:\n",
        "        index_do_valor_minimo = posicao_iterada\n",
        "\n",
        "    aux = lista[posicao]\n",
        "    lista[posicao] = lista[index_do_valor_minimo]\n",
        "    lista[index_do_valor_minimo] = aux\n",
        "\n",
        "  return lista\n"
      ],
      "metadata": {
        "id": "wQ23G6kxNhnf"
      },
      "execution_count": 22,
      "outputs": []
    },
    {
      "cell_type": "code",
      "source": [
        "import random\n",
        "\n",
        "lista = [random.randrange(1, 50, 1) for i in range(7)]\n",
        "print(f'Lista não ordenada: {lista} ')\n",
        "print(f'Lista ordenada: {selection_sort(lista)}')"
      ],
      "metadata": {
        "colab": {
          "base_uri": "https://localhost:8080/"
        },
        "id": "7xahrfEKQAHa",
        "outputId": "056db47f-6792-43d3-97ec-9a64015c107e"
      },
      "execution_count": 28,
      "outputs": [
        {
          "output_type": "stream",
          "name": "stdout",
          "text": [
            "Lista não ordenada: [21, 28, 46, 23, 46, 34, 28] \n",
            "Lista ordenada: [21, 23, 28, 28, 34, 46, 46]\n"
          ]
        }
      ]
    },
    {
      "cell_type": "markdown",
      "source": [
        "### Prática - Utilizando Programação Orientada a Objeto"
      ],
      "metadata": {
        "id": "ZIDjJeOURERn"
      }
    },
    {
      "cell_type": "code",
      "source": [
        "class Lista():\n",
        "\n",
        "    def __init__(self, lista):\n",
        "        self.lista = lista\n",
        "        self.tamanho_da_lista = len(lista)\n",
        "        \n",
        "\n",
        "    def __posicao_valor_minimo(self, posicao, i_min):\n",
        "        for i in range(posicao, self.tamanho_da_lista):\n",
        "            if self.lista[i] < self.lista[i_min]:\n",
        "                i_min = i\n",
        "        return i_min\n",
        "\n",
        "\n",
        "    def ordenacao(self):\n",
        "        print(f'Lista não ordenada: {self.lista}')\n",
        "\n",
        "        for i in range(self.tamanho_da_lista - 1):\n",
        "            i_min = self.__posicao_valor_minimo(i, i)\n",
        "            aux = self.lista[i]\n",
        "            self.lista[i] = self.lista[i_min]\n",
        "            self.lista[i_min] = aux\n",
        "        print(f'Lista ordenada: {self.lista}')"
      ],
      "metadata": {
        "id": "0emeWALJRLCB"
      },
      "execution_count": 32,
      "outputs": []
    },
    {
      "cell_type": "code",
      "source": [
        "import random\n",
        "\n",
        "lista = Lista([random.randrange(1, 50, 1) for i in range(7)])\n",
        "lista.ordenacao()"
      ],
      "metadata": {
        "colab": {
          "base_uri": "https://localhost:8080/"
        },
        "id": "d4ToWd_nWeMw",
        "outputId": "bbfff2eb-123a-4b5f-efb4-9a4d375bf1b4"
      },
      "execution_count": 33,
      "outputs": [
        {
          "output_type": "stream",
          "name": "stdout",
          "text": [
            "Lista não ordenada: [29, 47, 46, 3, 30, 28, 29]\n",
            "Lista ordenada: [3, 28, 29, 29, 30, 46, 47]\n"
          ]
        }
      ]
    }
  ]
}
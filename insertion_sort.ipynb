{
  "cells": [
    {
      "cell_type": "markdown",
      "metadata": {
        "id": "WFRgqhJf9cfL"
      },
      "source": [
        "## Como funciona o Insertion Sort?\n",
        "#### Teoria - Pseudocodigo\n",
        "Temos a seguinte lista abaixo:\n",
        "\n",
        "\n",
        "```\n",
        "lista = [18, 2, 1, 9, 5, 0]\n",
        "```\n",
        "\n",
        "O primeiro número de referência para o insertion sort é o número na posição 1 \n",
        "da lista, neste caso, o número 2. \n",
        "\n",
        "As comparações sempre são feitas com o número da posição que está à esquerda\n",
        "do número de referência. \n",
        "\n",
        "Contudo, a primeira comparação da iteração será entre os números nas posições 1\n",
        "e 0.\n",
        "\n",
        "\n",
        "```\n",
        "[18, 2]\n",
        "[0] [1]\n",
        "```\n",
        "\n",
        "Caso o número na posição 1 seja **menor** que o número na posição 0, a posição 0, que está à esquerda do número de referência passa a ficar à direita deste.\n",
        "\n",
        "```\n",
        "lista = [2, 18, 1, 9, 5, 0]\n",
        "```\n",
        "Como não tem nenhum outro número à esquerda do 2, a iteração encerra.\n",
        "\n",
        "<br>\n",
        "\n",
        "Na segunda iteração serão comparados as posições 2 e 1.\n",
        "\n",
        "```\n",
        "[18, 1]\n",
        "\n",
        "```\n",
        "Como 1 (posição 2) é menor que 18 (posição 1), eles trocam de lugar.\n",
        "\n",
        "```\n",
        "[1, 18]\n",
        "```\n",
        "\n",
        "Porém, à esquerda do 1 (posição 1) está o número 2 (posição 0), que é maior. Eles também deverão trocar de lugar\n",
        "\n",
        "```\n",
        "[1, 2, 18]\n",
        "```\n",
        "\n",
        "A lista ao final da segunda iteração ficará assim\n",
        "```\n",
        "lista = [1, 2, 18, 9, 5, 0]\n",
        "```\n",
        "\n",
        "\n",
        "A terceira iteração também segue a mesma dinâmica, vai comparando o número de referência com o que estiver à esquerda até chegar no menor\n",
        "```\n",
        "número de referência - 9 (posição 3)\n",
        "[1, 2, 18, 9, 5, 0]\n",
        "[1, 2, 9, 18, 5, 0] -> 1 rodada\n",
        "\n",
        "```\n",
        "\n",
        "Quarta iteração\n",
        "```\n",
        "número de referência - 5 (posição 4)\n",
        "[1, 2, 9, 18, 5, 0]\n",
        "[1, 2, 9, 5, 18, 0] -> 1 rodada\n",
        "[1, 2, 5, 9, 18, 0] -> 2 rodada\n",
        "\n",
        "```\n",
        "\n",
        "Última iteração\n",
        "```\n",
        "número de referência - 0 (posição 5)\n",
        "[1, 2, 5, 9, 18, 0]\n",
        "[1, 2, 5, 9, 0, 18] -> 1 rodada\n",
        "[1, 2, 5, 0, 9, 18] -> 2 rodada\n",
        "[1, 2, 0, 5, 9, 18] -> 3 rodada\n",
        "[1, 0, 2, 5, 9, 18] -> 4 rodada\n",
        "[0, 1, 2, 5, 9, 18] -> 5 rodada\n",
        "\n",
        "```\n",
        "\n",
        "O resultado da ordenação é\n",
        "\n",
        "```\n",
        "lista = [0, 1, 2, 5, 9, 18]\n",
        "\n",
        "```\n",
        "*****\n",
        "### Exemplo visual animado\n",
        "![exemplo](https://upload.wikimedia.org/wikipedia/commons/9/9c/Insertion-sort-example.gif)\n"
      ]
    },
    {
      "cell_type": "markdown",
      "metadata": {
        "id": "B5mNniaSNZ_2"
      },
      "source": [
        "*******\n",
        "### Prática - Python"
      ]
    },
    {
      "cell_type": "code",
      "execution_count": 6,
      "metadata": {
        "id": "bLLyEjGOBrzb"
      },
      "outputs": [],
      "source": [
        "def insertion_sort(lista):\n",
        "  n = len(lista)\n",
        "  for i in range(1, n):\n",
        "    referencia = lista[i]  # Geralmente essa variável é chamada de key\n",
        "    index_esquerda = i - 1\n",
        "    while index_esquerda >= 0 and lista[index_esquerda] > referencia:\n",
        "      lista[index_esquerda + 1] = lista[index_esquerda]\n",
        "      index_esquerda = index_esquerda - 1 \n",
        "    lista[index_esquerda + 1] = referencia\n",
        "  return lista"
      ]
    },
    {
      "cell_type": "code",
      "execution_count": 12,
      "metadata": {
        "colab": {
          "base_uri": "https://localhost:8080/"
        },
        "id": "bdua5rTpDL3L",
        "outputId": "79fbcd32-ee85-4f76-e733-50e7b73cb719"
      },
      "outputs": [
        {
          "name": "stdout",
          "output_type": "stream",
          "text": [
            " Lista não ordenada: [27, 10, 40, 5, 3, 39, 47] \n",
            " Lista ordenada: [3, 5, 10, 27, 39, 40, 47]\n"
          ]
        }
      ],
      "source": [
        "import random\n",
        "lista = [random.randint(1, 50) for i in range(7)]\n",
        "\n",
        "print(f' Lista não ordenada: {lista} \\\n",
        "\\n Lista ordenada: {insertion_sort(lista)}')"
      ]
    },
    {
      "cell_type": "markdown",
      "metadata": {
        "id": "ZIDjJeOURERn"
      },
      "source": [
        "### Prática - Utilizando Programação Orientada a Objeto"
      ]
    },
    {
      "cell_type": "code",
      "execution_count": 18,
      "metadata": {
        "id": "zAoY4pi4D88s"
      },
      "outputs": [],
      "source": [
        "class Lista:\n",
        "  def __init__(self, lista):\n",
        "    self.lista = lista\n",
        "\n",
        "  @property\n",
        "  def mostrar(self):\n",
        "    return self.lista\n",
        "\n",
        "  def __insertion_sort(self, j, key):\n",
        "    lista = self.lista\n",
        "    while j >= 0 and lista[j] > key:\n",
        "      lista[j + 1] = lista[j]\n",
        "      j = j - 1\n",
        "    lista[j + 1] = key\n",
        "\n",
        "  def insertion_sort(self):\n",
        "    n = len(self.lista)\n",
        "    for i in range(1, n):\n",
        "      j = i - 1\n",
        "      key = self.lista[i] \n",
        "      self.__insertion_sort(j, key)\n",
        "\n"
      ]
    },
    {
      "cell_type": "code",
      "execution_count": 28,
      "metadata": {
        "colab": {
          "base_uri": "https://localhost:8080/"
        },
        "id": "V-AqLundG1Xr",
        "outputId": "d0784dbc-c22b-437c-8211-e079b1d0767a"
      },
      "outputs": [
        {
          "name": "stdout",
          "output_type": "stream",
          "text": [
            "Lista não ordenada: [44, 45, 29, 25, 49, 1, 13]\n",
            "Lista ordenada: [1, 13, 25, 29, 44, 45, 49]\n"
          ]
        }
      ],
      "source": [
        "import random\n",
        "lista = Lista([random.randint(1, 50) for i in range(7)])\n",
        "print(f'Lista não ordenada: {lista.mostrar}')\n",
        "lista.insertion_sort()\n",
        "print(f'Lista ordenada: {lista.mostrar}')"
      ]
    },
    {
      "cell_type": "markdown",
      "metadata": {},
      "source": [
        "### Complexidade do algoritmo\n",
        "\n",
        "A complexidade deste algoritmo é O(n²) -> Quadrático"
      ]
    }
  ],
  "metadata": {
    "colab": {
      "collapsed_sections": [],
      "name": "Insertion Sort.ipynb",
      "provenance": []
    },
    "kernelspec": {
      "display_name": "Python 3",
      "name": "python3"
    },
    "language_info": {
      "name": "python"
    }
  },
  "nbformat": 4,
  "nbformat_minor": 0
}

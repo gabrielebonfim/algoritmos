{
  "cells": [
    {
      "cell_type": "markdown",
      "metadata": {
        "id": "WFRgqhJf9cfL"
      },
      "source": [
        "## Como funciona o Bubble Sort?\n",
        "#### Teoria - Pseudocodigo\n",
        "Temos com exemplo a seguinte lista a ser ordenada:\n",
        "\n",
        "\n",
        "```\n",
        "lista = [5, 22, 3, 9, 1, 7]\n",
        "```\n",
        "\n",
        "O processo de ordenação é realizado pela comparação entre duas posições da lista. Como por exemplo, as posições 0 e 1:\n",
        "\n",
        "```\n",
        "[5, 22]\n",
        "```\n",
        "\n",
        "O algoritmo deve encontrar, entre essas duas posições, o menor número. \n",
        "Se o número na posição 1 fosse o menor, ele trocaria de posição com a posição 0. **Neste caso, a ordem permanece, pois 5 é menor que 22.**\n",
        "\n",
        "A próxima iteração agora é entre as posições 1 e 2:\n",
        "\n",
        "```\n",
        "[22, 3]\n",
        "```\n",
        "\n",
        "O número na posição 2 é menor do que o número na posição 1, então eles devem trocar de lugar. Neste momento da iteração, a ordenação da lista se encontra assim:\n",
        "\n",
        "```\n",
        "[5, 3, 22, 9, 1, 7]\n",
        "```\n",
        "\n",
        "A iteração segue o mesmo raciocínio até finalizar a lista. Após finalizar, repetirá o mesmo processo (que chamarei de rodada) até que todos os números estejam ordenados.\n",
        "\n",
        "```\n",
        "[5, 3, 9, 1, 7, 22]  -> rodada 1\n",
        "[3, 5, 1, 7, 9, 22]  -> rodada 2\n",
        "[3, 1, 5, 7, 9, 22]  -> rodada 3\n",
        "[1, 3, 5, 7, 9, 22]  -> rodada 4\n",
        "\n",
        "```"
      ]
    },
    {
      "cell_type": "markdown",
      "metadata": {
        "id": "B5mNniaSNZ_2"
      },
      "source": [
        "*******\n",
        "### Prática - Python"
      ]
    },
    {
      "cell_type": "code",
      "execution_count": 2,
      "metadata": {
        "id": "vuHEbG1eQatE"
      },
      "outputs": [],
      "source": [
        "def bubble_sort(lista):\n",
        "  n = len(lista)\n",
        "  '''\n",
        "    Para as iterações será utilizado n-1, pois os últimos elementos já estão\n",
        "    sendo comparados com os penúltimos. \n",
        "  '''\n",
        "  for j in range(n-1): #iteração das rodadas\n",
        "    for i in range (n-1):   #iteração dos elementos\n",
        "      if lista[i] > lista[i+1]:\n",
        "        lista[i], lista[i+1] = lista[i+1], lista[i] #Solução nativa do Python\n",
        "  return lista"
      ]
    },
    {
      "cell_type": "code",
      "execution_count": 6,
      "metadata": {
        "colab": {
          "base_uri": "https://localhost:8080/"
        },
        "id": "WCG4vR94Rg4S",
        "outputId": "d1c81759-17b3-4f52-a595-ca6d52bd887f"
      },
      "outputs": [
        {
          "name": "stdout",
          "output_type": "stream",
          "text": [
            "Lista não ordenada: [39, 2, 21, 3, 31, 25, 23]\n",
            "Lista ordenada: [2, 3, 21, 23, 25, 31, 39]\n"
          ]
        }
      ],
      "source": [
        "import random\n",
        "\n",
        "'''\n",
        "SOBRE A GERAÇÃO DE NÚMEROS UTILIZANDO LIST COMPREHENCION\n",
        "- random.randint() vai gerar um número aleatório entre 1 a 50\n",
        "- o loop ao lado vai definir a quantidade de números a ser gerada\n",
        "'''\n",
        "\n",
        "lista = [random.randint(1, 50) for i in range(7)]\n",
        "print(f'Lista não ordenada: {lista}')\n",
        "print(f'Lista ordenada: {bubble_sort(lista)}')"
      ]
    },
    {
      "cell_type": "markdown",
      "metadata": {
        "id": "ZIDjJeOURERn"
      },
      "source": [
        "### Prática - Utilizando Programação Orientada a Objeto"
      ]
    },
    {
      "cell_type": "code",
      "execution_count": 25,
      "metadata": {
        "id": "BsEDfg3rWsqF"
      },
      "outputs": [],
      "source": [
        "class Lista():\n",
        "  def __init__(self, lista):\n",
        "    self.lista = lista\n",
        "    self.n = len(lista)\n",
        "\n",
        "  @property\n",
        "  def lista_atual(self):\n",
        "    return self.lista\n",
        "\n",
        "  def _bubble_sort(self):\n",
        "    lista = self.lista\n",
        "    for i in range(self.n - 1):\n",
        "      if lista[i] > lista[i + 1]:\n",
        "        lista[i], lista[i + 1] = lista[i + 1], lista[i]\n",
        "    return lista\n",
        "\n",
        "  def bubble_sort(self):\n",
        "    for i in range (self.n - 1):\n",
        "      self._bubble_sort()\n",
        "    return self.lista"
      ]
    },
    {
      "cell_type": "code",
      "execution_count": 26,
      "metadata": {
        "colab": {
          "base_uri": "https://localhost:8080/"
        },
        "id": "k3l83r_5YIgN",
        "outputId": "128daaf2-573f-4885-f703-941a7396ccb9"
      },
      "outputs": [
        {
          "name": "stdout",
          "output_type": "stream",
          "text": [
            "Lista não ordenada: [36, 18, 20, 34, 11, 29, 40]\n",
            "Lista ordenada: [11, 18, 20, 29, 34, 36, 40]\n"
          ]
        }
      ],
      "source": [
        "import random\n",
        "lista = Lista([random.randint(1, 50) for i in range(7)])\n",
        "print(f'Lista não ordenada: {lista.lista_atual}')\n",
        "print(f'Lista ordenada: {lista.bubble_sort()}')"
      ]
    },
    {
      "cell_type": "markdown",
      "metadata": {},
      "source": [
        "### Complexidade do algoritmo\n",
        "\n",
        "A complexidade deste algoritmo é O(n²) -> Quadrático"
      ]
    }
  ],
  "metadata": {
    "colab": {
      "collapsed_sections": [],
      "name": "Bubble Sort.ipynb",
      "provenance": []
    },
    "kernelspec": {
      "display_name": "Python 3",
      "name": "python3"
    },
    "language_info": {
      "name": "python"
    }
  },
  "nbformat": 4,
  "nbformat_minor": 0
}
